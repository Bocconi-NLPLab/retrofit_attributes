{
 "cells": [
  {
   "cell_type": "code",
   "execution_count": 10,
   "metadata": {},
   "outputs": [],
   "source": [
    "import pandas as pd"
   ]
  },
  {
   "cell_type": "code",
   "execution_count": 18,
   "metadata": {},
   "outputs": [
    {
     "data": {
      "text/html": [
       "<div>\n",
       "<style scoped>\n",
       "    .dataframe tbody tr th:only-of-type {\n",
       "        vertical-align: middle;\n",
       "    }\n",
       "\n",
       "    .dataframe tbody tr th {\n",
       "        vertical-align: top;\n",
       "    }\n",
       "\n",
       "    .dataframe thead th {\n",
       "        text-align: right;\n",
       "    }\n",
       "</style>\n",
       "<table border=\"1\" class=\"dataframe\">\n",
       "  <thead>\n",
       "    <tr style=\"text-align: right;\">\n",
       "      <th></th>\n",
       "      <th>0</th>\n",
       "      <th>1</th>\n",
       "      <th>2</th>\n",
       "      <th>3</th>\n",
       "      <th>4</th>\n",
       "      <th>5</th>\n",
       "    </tr>\n",
       "  </thead>\n",
       "  <tbody>\n",
       "    <tr>\n",
       "      <th>0</th>\n",
       "      <td>5</td>\n",
       "      <td>Car Rental</td>\n",
       "      <td>899881</td>\n",
       "      <td>F</td>\n",
       "      <td>50</td>\n",
       "      <td>Prices change daily and if you want to really ...</td>\n",
       "    </tr>\n",
       "    <tr>\n",
       "      <th>1</th>\n",
       "      <td>5</td>\n",
       "      <td>Fitness &amp; Nutrition</td>\n",
       "      <td>828184</td>\n",
       "      <td>M</td>\n",
       "      <td>32</td>\n",
       "      <td>and the fact that they will match other compan...</td>\n",
       "    </tr>\n",
       "    <tr>\n",
       "      <th>2</th>\n",
       "      <td>5</td>\n",
       "      <td>Electronic Payment</td>\n",
       "      <td>1698375</td>\n",
       "      <td>M</td>\n",
       "      <td>48</td>\n",
       "      <td>Used Paypal for my buying and selling for the ...</td>\n",
       "    </tr>\n",
       "    <tr>\n",
       "      <th>3</th>\n",
       "      <td>5</td>\n",
       "      <td>Gaming</td>\n",
       "      <td>3324079</td>\n",
       "      <td>M</td>\n",
       "      <td>29</td>\n",
       "      <td>I ' ve made two purchases on CJ ' s for Fallou...</td>\n",
       "    </tr>\n",
       "    <tr>\n",
       "      <th>4</th>\n",
       "      <td>4</td>\n",
       "      <td>Jewelry</td>\n",
       "      <td>719816</td>\n",
       "      <td>F</td>\n",
       "      <td>29</td>\n",
       "      <td>I was very happy with the diamond that I order...</td>\n",
       "    </tr>\n",
       "  </tbody>\n",
       "</table>\n",
       "</div>"
      ],
      "text/plain": [
       "   0                    1        2  3   4  \\\n",
       "0  5           Car Rental   899881  F  50   \n",
       "1  5  Fitness & Nutrition   828184  M  32   \n",
       "2  5   Electronic Payment  1698375  M  48   \n",
       "3  5               Gaming  3324079  M  29   \n",
       "4  4              Jewelry   719816  F  29   \n",
       "\n",
       "                                                   5  \n",
       "0  Prices change daily and if you want to really ...  \n",
       "1  and the fact that they will match other compan...  \n",
       "2  Used Paypal for my buying and selling for the ...  \n",
       "3  I ' ve made two purchases on CJ ' s for Fallou...  \n",
       "4  I was very happy with the diamond that I order...  "
      ]
     },
     "execution_count": 18,
     "metadata": {},
     "output_type": "execute_result"
    }
   ],
   "source": [
    "df = pd.read_csv('sociolinguistics/data/english.uid-rating-age-gender-category.reviews.AND.corpus', sep='\\t', header=None)\n",
    "df.head()"
   ]
  },
  {
   "cell_type": "code",
   "execution_count": 70,
   "metadata": {},
   "outputs": [],
   "source": [
    "import spacy\n",
    "nlp = spacy.load('en', tagger=False, parser=False, ner=False)"
   ]
  },
  {
   "cell_type": "code",
   "execution_count": 71,
   "metadata": {},
   "outputs": [],
   "source": [
    "def clean(text):\n",
    "    return ' '.join([t.lemma_ for t in nlp(text)])\n",
    "\n",
    "new = df[[2,3,4, 5]].groupby(2).aggregate({3: lambda g: list(g)[0], 4: lambda a: sum(a)/len(a)//10, 5:lambda x: clean(' '.join(x))})"
   ]
  },
  {
   "cell_type": "code",
   "execution_count": 72,
   "metadata": {},
   "outputs": [],
   "source": [
    "new[[5, 3, 4]].to_csv('social_science/complete_profiles/data.tsv', sep='\\t', header=['text', 'gender', 'age'], index=None)"
   ]
  },
  {
   "cell_type": "code",
   "execution_count": 73,
   "metadata": {},
   "outputs": [
    {
     "name": "stdout",
     "output_type": "stream",
     "text": [
      "text\tgender\tage\r\n",
      "-PRON- order a panoramic print on mdf on a thursday and ring -PRON- to see if -PRON- could be ready for the following wednesday . -PRON- be tell -PRON- usually take 0 working day to get put on mdf , but -PRON- ' d see what -PRON- could do . on the tuesday -PRON- receive an email to say that -PRON- be ready - 00 hour before -PRON- need -PRON- . -PRON- go to collect -PRON- as -PRON- work nearby and the quality be simply outstanding . not a lot else to say really as -PRON- all go so smoothly ! will definitely be back whenever -PRON- have a similar requirement . -PRON- ' ve use a few company for shop feed management before and have never be truly satisfied with -PRON- . either the technology wasn ' t up to scratch or the account ' manager ' didn ' t really want to know or help beyond the initial setup . feeoptimise have be great since -PRON- start with -PRON- a few week ago . the platform be powerful , but very well design and easy to use . -PRON- ' ve deal with marcin who have be tremendously helpful in both set up the feed , and then offer advice on how to optimise the feed for each shopping site . -PRON- ' ve already see a lift in -PRON- google shopping traffic as a result of marcin ' s advice too . beyond that , -PRON- have listen and act on feedback -PRON- ' ve provide about -PRON- platform - often make suggest change within 00 hour . very impressed and please -PRON- ' ve find -PRON- .\tM\t3\r\n",
      "-PRON- only buy a cheap waterproof camera case , but delivery be on a par with amazon ' s free service . well pack , good price , and new product than be availiable in the uk . -PRON- ' ve never have any problem order from aria , although -PRON- pay to confirm that -PRON- special offer be not end - of - line product . don ' t expect much in the way of product support , and -PRON- should be fine .\tM\t3\r\n",
      "very competitive cd key price and all fully work . -PRON- have order at least 0 different game from cjs and all have be perfect and work excellently . -PRON- do have a minor delay with one cd key , but -PRON- be resolve within 00 hour and -PRON- have the pleasure of experience very professional customer service . overall -PRON- be very impressed with cjs and will buy again in the future .\tM\t2\r\n",
      "-PRON- have never cease to be amazed at what weird and wonderful book -PRON- stock . -PRON- have never have a problem with -PRON- although some of the other company ell via -PRON- site be a little dubious at time .\tM\t6\r\n",
      "-PRON- purchase high - end fine alexandrite gemstone receive a fantastic deal . -PRON- be -PRON- second purchase from multicolour . com and -PRON- be sure there will be many more to come .\tF\t3\r\n",
      "go to the local shop with a problem and the girl just laugh at -PRON- predicament rather than help -PRON- . -PRON- decide to sell the phone as faulty on ebay and get some money for -PRON- and go to phones0u instead . just a quick note to the helpful customer service guy that make sure -PRON- get -PRON- new glass ( again :) ) before a family christening .\tF\t2\r\n",
      "i ' ve just receive -PRON- 0nd pair from -PRON- and -PRON- look gorgeous .\tM\t2\r\n",
      "-PRON- ' ve only ever use -PRON- for ds card but -PRON- always arrive on time and -PRON- price be fantastic ( -PRON- always go for the ship from jersey option so avoid vat - -PRON- say 0 - 0 day delivery but usually 0 - 0 day ) .\tM\t2\r\n",
      "easy to find , easy to purchase . receive next day and like the postage option available . -PRON- be -PRON- iw ent with the cheap postage which be first class and still get witin 00 hour . free mascara be a real bonus aswell . well do beautycow .\tF\t3\r\n"
     ]
    }
   ],
   "source": [
    "! head social_science/complete_profiles/data.tsv"
   ]
  },
  {
   "cell_type": "code",
   "execution_count": 50,
   "metadata": {},
   "outputs": [
    {
     "data": {
      "text/plain": [
       "({'f': {2, 6, 10, 12, 14, 17, 19, 20, 24, 25, 28, 30, 31, 34},\n",
       "  'm': {0, 1, 4, 7, 9, 11, 13, 16, 18, 21, 22, 26, 27, 29, 32, 33, 35},\n",
       "  'n': {3, 5, 8, 15, 23}},\n",
       " {0: [1, 32, 33, 4, 35, 7, 9, 11, 13, 16, 18, 21, 22, 26, 27, 29],\n",
       "  1: [0, 32, 33, 4, 35, 7, 9, 11, 13, 16, 18, 21, 22, 26, 27, 29],\n",
       "  2: [34, 6, 10, 12, 14, 17, 19, 20, 24, 25, 28, 30, 31],\n",
       "  3: [5, 8, 15, 23],\n",
       "  4: [0, 1, 32, 33, 35, 7, 9, 11, 13, 16, 18, 21, 22, 26, 27, 29],\n",
       "  5: [3, 8, 15, 23],\n",
       "  6: [2, 34, 10, 12, 14, 17, 19, 20, 24, 25, 28, 30, 31],\n",
       "  7: [0, 1, 32, 33, 4, 35, 9, 11, 13, 16, 18, 21, 22, 26, 27, 29],\n",
       "  8: [3, 5, 15, 23],\n",
       "  9: [0, 1, 32, 33, 4, 35, 7, 11, 13, 16, 18, 21, 22, 26, 27, 29],\n",
       "  10: [2, 34, 6, 12, 14, 17, 19, 20, 24, 25, 28, 30, 31],\n",
       "  11: [0, 1, 32, 33, 4, 35, 7, 9, 13, 16, 18, 21, 22, 26, 27, 29],\n",
       "  12: [2, 34, 6, 10, 14, 17, 19, 20, 24, 25, 28, 30, 31],\n",
       "  13: [0, 1, 32, 33, 4, 35, 7, 9, 11, 16, 18, 21, 22, 26, 27, 29],\n",
       "  14: [2, 34, 6, 10, 12, 17, 19, 20, 24, 25, 28, 30, 31],\n",
       "  15: [3, 5, 8, 23],\n",
       "  16: [0, 1, 32, 33, 4, 35, 7, 9, 11, 13, 18, 21, 22, 26, 27, 29],\n",
       "  17: [2, 34, 6, 10, 12, 14, 19, 20, 24, 25, 28, 30, 31],\n",
       "  18: [0, 1, 32, 33, 4, 35, 7, 9, 11, 13, 16, 21, 22, 26, 27, 29],\n",
       "  19: [2, 34, 6, 10, 12, 14, 17, 20, 24, 25, 28, 30, 31],\n",
       "  20: [2, 34, 6, 10, 12, 14, 17, 19, 24, 25, 28, 30, 31],\n",
       "  21: [0, 1, 32, 33, 4, 35, 7, 9, 11, 13, 16, 18, 22, 26, 27, 29],\n",
       "  22: [0, 1, 32, 33, 4, 35, 7, 9, 11, 13, 16, 18, 21, 26, 27, 29],\n",
       "  23: [3, 5, 8, 15],\n",
       "  24: [2, 34, 6, 10, 12, 14, 17, 19, 20, 25, 28, 30, 31],\n",
       "  25: [2, 34, 6, 10, 12, 14, 17, 19, 20, 24, 28, 30, 31],\n",
       "  26: [0, 1, 32, 33, 4, 35, 7, 9, 11, 13, 16, 18, 21, 22, 27, 29],\n",
       "  27: [0, 1, 32, 33, 4, 35, 7, 9, 11, 13, 16, 18, 21, 22, 26, 29],\n",
       "  28: [2, 34, 6, 10, 12, 14, 17, 19, 20, 24, 25, 30, 31],\n",
       "  29: [0, 1, 32, 33, 4, 35, 7, 9, 11, 13, 16, 18, 21, 22, 26, 27],\n",
       "  30: [2, 34, 6, 10, 12, 14, 17, 19, 20, 24, 25, 28, 31],\n",
       "  31: [2, 34, 6, 10, 12, 14, 17, 19, 20, 24, 25, 28, 30],\n",
       "  32: [0, 1, 33, 4, 35, 7, 9, 11, 13, 16, 18, 21, 22, 26, 27, 29],\n",
       "  33: [0, 1, 32, 4, 35, 7, 9, 11, 13, 16, 18, 21, 22, 26, 27, 29],\n",
       "  34: [2, 6, 10, 12, 14, 17, 19, 20, 24, 25, 28, 30, 31],\n",
       "  35: [0, 1, 32, 33, 4, 7, 9, 11, 13, 16, 18, 21, 22, 26, 27, 29]})"
      ]
     },
     "execution_count": 50,
     "metadata": {},
     "output_type": "execute_result"
    }
   ],
   "source": [
    "y = list('mmfnmnfmnmfmfmfnmfmffmmnffmmfmffmmfm')\n",
    "value2id = {value: {idx for idx, v2 in enumerate(y) if v2 == value} for value in y}\n",
    "id2neighbors = {}\n",
    "for _, idx in value2id.items():\n",
    "    for id_ in idx:\n",
    "        id2neighbors[id_] = list(idx)\n",
    "        id2neighbors[id_].remove(id_)\n",
    "value2id, id2neighbors"
   ]
  },
  {
   "cell_type": "code",
   "execution_count": 65,
   "metadata": {},
   "outputs": [
    {
     "data": {
      "text/html": [
       "<div>\n",
       "<style scoped>\n",
       "    .dataframe tbody tr th:only-of-type {\n",
       "        vertical-align: middle;\n",
       "    }\n",
       "\n",
       "    .dataframe tbody tr th {\n",
       "        vertical-align: top;\n",
       "    }\n",
       "\n",
       "    .dataframe thead th {\n",
       "        text-align: right;\n",
       "    }\n",
       "</style>\n",
       "<table border=\"1\" class=\"dataframe\">\n",
       "  <thead>\n",
       "    <tr style=\"text-align: right;\">\n",
       "      <th></th>\n",
       "      <th>known</th>\n",
       "      <th>profiles</th>\n",
       "      <th>retrofit</th>\n",
       "      <th>BOW</th>\n",
       "    </tr>\n",
       "  </thead>\n",
       "  <tbody>\n",
       "    <tr>\n",
       "      <th>0</th>\n",
       "      <td>10</td>\n",
       "      <td>1.0</td>\n",
       "      <td>1.666667</td>\n",
       "      <td>3.0</td>\n",
       "    </tr>\n",
       "  </tbody>\n",
       "</table>\n",
       "</div>"
      ],
      "text/plain": [
       "   known  profiles  retrofit  BOW\n",
       "0     10       1.0  1.666667  3.0"
      ]
     },
     "execution_count": 65,
     "metadata": {},
     "output_type": "execute_result"
    }
   ],
   "source": [
    "x = [[1,2,3], [1,2,4], [1,1,2]]\n",
    "z = [[10] + np.array(x).mean(axis=0).tolist()]\n",
    "pd.DataFrame(data=z, columns=['known', 'profiles', 'retrofit', 'BOW'])\n"
   ]
  },
  {
   "cell_type": "code",
   "execution_count": 68,
   "metadata": {},
   "outputs": [
    {
     "data": {
      "text/plain": [
       "array([90597, 46453, 83529, 24256, 39962, 35639, 58667, 91533, 44778,\n",
       "       56656])"
      ]
     },
     "execution_count": 68,
     "metadata": {},
     "output_type": "execute_result"
    }
   ],
   "source": [
    "np.random.choice(100000, size=10, replace=False)"
   ]
  },
  {
   "cell_type": "code",
   "execution_count": 69,
   "metadata": {},
   "outputs": [],
   "source": []
  },
  {
   "cell_type": "code",
   "execution_count": null,
   "metadata": {},
   "outputs": [],
   "source": []
  }
 ],
 "metadata": {
  "kernelspec": {
   "display_name": "Python 3",
   "language": "python",
   "name": "python3"
  },
  "language_info": {
   "codemirror_mode": {
    "name": "ipython",
    "version": 3
   },
   "file_extension": ".py",
   "mimetype": "text/x-python",
   "name": "python",
   "nbconvert_exporter": "python",
   "pygments_lexer": "ipython3",
   "version": "3.6.4"
  }
 },
 "nbformat": 4,
 "nbformat_minor": 2
}
